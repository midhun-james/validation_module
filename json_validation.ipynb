{
  "cells": [
    {
      "cell_type": "markdown",
      "metadata": {
        "id": "view-in-github",
        "colab_type": "text"
      },
      "source": [
        "<a href=\"https://colab.research.google.com/github/midhun-james/validation_module/blob/main/json_validation.ipynb\" target=\"_parent\"><img src=\"https://colab.research.google.com/assets/colab-badge.svg\" alt=\"Open In Colab\"/></a>"
      ]
    },
    {
      "cell_type": "code",
      "source": [
        "!pip install presidio_analyzer\n"
      ],
      "metadata": {
        "colab": {
          "base_uri": "https://localhost:8080/"
        },
        "id": "8QFWpsfkGU-w",
        "outputId": "2371c488-e4b1-487a-f10e-7e5def80ca09"
      },
      "execution_count": 1,
      "outputs": [
        {
          "output_type": "stream",
          "name": "stdout",
          "text": [
            "Collecting presidio_analyzer\n",
            "  Downloading presidio_analyzer-2.2.358-py3-none-any.whl.metadata (3.2 kB)\n",
            "Collecting phonenumbers<9.0.0,>=8.12 (from presidio_analyzer)\n",
            "  Downloading phonenumbers-8.13.55-py2.py3-none-any.whl.metadata (11 kB)\n",
            "Requirement already satisfied: pyyaml in /usr/local/lib/python3.11/dist-packages (from presidio_analyzer) (6.0.2)\n",
            "Requirement already satisfied: regex in /usr/local/lib/python3.11/dist-packages (from presidio_analyzer) (2024.11.6)\n",
            "Requirement already satisfied: spacy!=3.7.0,<4.0.0,>=3.4.4 in /usr/local/lib/python3.11/dist-packages (from presidio_analyzer) (3.8.5)\n",
            "Collecting tldextract (from presidio_analyzer)\n",
            "  Downloading tldextract-5.2.0-py3-none-any.whl.metadata (11 kB)\n",
            "Requirement already satisfied: spacy-legacy<3.1.0,>=3.0.11 in /usr/local/lib/python3.11/dist-packages (from spacy!=3.7.0,<4.0.0,>=3.4.4->presidio_analyzer) (3.0.12)\n",
            "Requirement already satisfied: spacy-loggers<2.0.0,>=1.0.0 in /usr/local/lib/python3.11/dist-packages (from spacy!=3.7.0,<4.0.0,>=3.4.4->presidio_analyzer) (1.0.5)\n",
            "Requirement already satisfied: murmurhash<1.1.0,>=0.28.0 in /usr/local/lib/python3.11/dist-packages (from spacy!=3.7.0,<4.0.0,>=3.4.4->presidio_analyzer) (1.0.12)\n",
            "Requirement already satisfied: cymem<2.1.0,>=2.0.2 in /usr/local/lib/python3.11/dist-packages (from spacy!=3.7.0,<4.0.0,>=3.4.4->presidio_analyzer) (2.0.11)\n",
            "Requirement already satisfied: preshed<3.1.0,>=3.0.2 in /usr/local/lib/python3.11/dist-packages (from spacy!=3.7.0,<4.0.0,>=3.4.4->presidio_analyzer) (3.0.9)\n",
            "Requirement already satisfied: thinc<8.4.0,>=8.3.4 in /usr/local/lib/python3.11/dist-packages (from spacy!=3.7.0,<4.0.0,>=3.4.4->presidio_analyzer) (8.3.4)\n",
            "Requirement already satisfied: wasabi<1.2.0,>=0.9.1 in /usr/local/lib/python3.11/dist-packages (from spacy!=3.7.0,<4.0.0,>=3.4.4->presidio_analyzer) (1.1.3)\n",
            "Requirement already satisfied: srsly<3.0.0,>=2.4.3 in /usr/local/lib/python3.11/dist-packages (from spacy!=3.7.0,<4.0.0,>=3.4.4->presidio_analyzer) (2.5.1)\n",
            "Requirement already satisfied: catalogue<2.1.0,>=2.0.6 in /usr/local/lib/python3.11/dist-packages (from spacy!=3.7.0,<4.0.0,>=3.4.4->presidio_analyzer) (2.0.10)\n",
            "Requirement already satisfied: weasel<0.5.0,>=0.1.0 in /usr/local/lib/python3.11/dist-packages (from spacy!=3.7.0,<4.0.0,>=3.4.4->presidio_analyzer) (0.4.1)\n",
            "Requirement already satisfied: typer<1.0.0,>=0.3.0 in /usr/local/lib/python3.11/dist-packages (from spacy!=3.7.0,<4.0.0,>=3.4.4->presidio_analyzer) (0.15.2)\n",
            "Requirement already satisfied: tqdm<5.0.0,>=4.38.0 in /usr/local/lib/python3.11/dist-packages (from spacy!=3.7.0,<4.0.0,>=3.4.4->presidio_analyzer) (4.67.1)\n",
            "Requirement already satisfied: numpy>=1.19.0 in /usr/local/lib/python3.11/dist-packages (from spacy!=3.7.0,<4.0.0,>=3.4.4->presidio_analyzer) (2.0.2)\n",
            "Requirement already satisfied: requests<3.0.0,>=2.13.0 in /usr/local/lib/python3.11/dist-packages (from spacy!=3.7.0,<4.0.0,>=3.4.4->presidio_analyzer) (2.32.3)\n",
            "Requirement already satisfied: pydantic!=1.8,!=1.8.1,<3.0.0,>=1.7.4 in /usr/local/lib/python3.11/dist-packages (from spacy!=3.7.0,<4.0.0,>=3.4.4->presidio_analyzer) (2.11.2)\n",
            "Requirement already satisfied: jinja2 in /usr/local/lib/python3.11/dist-packages (from spacy!=3.7.0,<4.0.0,>=3.4.4->presidio_analyzer) (3.1.6)\n",
            "Requirement already satisfied: setuptools in /usr/local/lib/python3.11/dist-packages (from spacy!=3.7.0,<4.0.0,>=3.4.4->presidio_analyzer) (75.2.0)\n",
            "Requirement already satisfied: packaging>=20.0 in /usr/local/lib/python3.11/dist-packages (from spacy!=3.7.0,<4.0.0,>=3.4.4->presidio_analyzer) (24.2)\n",
            "Requirement already satisfied: langcodes<4.0.0,>=3.2.0 in /usr/local/lib/python3.11/dist-packages (from spacy!=3.7.0,<4.0.0,>=3.4.4->presidio_analyzer) (3.5.0)\n",
            "Requirement already satisfied: idna in /usr/local/lib/python3.11/dist-packages (from tldextract->presidio_analyzer) (3.10)\n",
            "Collecting requests-file>=1.4 (from tldextract->presidio_analyzer)\n",
            "  Downloading requests_file-2.1.0-py2.py3-none-any.whl.metadata (1.7 kB)\n",
            "Requirement already satisfied: filelock>=3.0.8 in /usr/local/lib/python3.11/dist-packages (from tldextract->presidio_analyzer) (3.18.0)\n",
            "Requirement already satisfied: language-data>=1.2 in /usr/local/lib/python3.11/dist-packages (from langcodes<4.0.0,>=3.2.0->spacy!=3.7.0,<4.0.0,>=3.4.4->presidio_analyzer) (1.3.0)\n",
            "Requirement already satisfied: annotated-types>=0.6.0 in /usr/local/lib/python3.11/dist-packages (from pydantic!=1.8,!=1.8.1,<3.0.0,>=1.7.4->spacy!=3.7.0,<4.0.0,>=3.4.4->presidio_analyzer) (0.7.0)\n",
            "Requirement already satisfied: pydantic-core==2.33.1 in /usr/local/lib/python3.11/dist-packages (from pydantic!=1.8,!=1.8.1,<3.0.0,>=1.7.4->spacy!=3.7.0,<4.0.0,>=3.4.4->presidio_analyzer) (2.33.1)\n",
            "Requirement already satisfied: typing-extensions>=4.12.2 in /usr/local/lib/python3.11/dist-packages (from pydantic!=1.8,!=1.8.1,<3.0.0,>=1.7.4->spacy!=3.7.0,<4.0.0,>=3.4.4->presidio_analyzer) (4.13.1)\n",
            "Requirement already satisfied: typing-inspection>=0.4.0 in /usr/local/lib/python3.11/dist-packages (from pydantic!=1.8,!=1.8.1,<3.0.0,>=1.7.4->spacy!=3.7.0,<4.0.0,>=3.4.4->presidio_analyzer) (0.4.0)\n",
            "Requirement already satisfied: charset-normalizer<4,>=2 in /usr/local/lib/python3.11/dist-packages (from requests<3.0.0,>=2.13.0->spacy!=3.7.0,<4.0.0,>=3.4.4->presidio_analyzer) (3.4.1)\n",
            "Requirement already satisfied: urllib3<3,>=1.21.1 in /usr/local/lib/python3.11/dist-packages (from requests<3.0.0,>=2.13.0->spacy!=3.7.0,<4.0.0,>=3.4.4->presidio_analyzer) (2.3.0)\n",
            "Requirement already satisfied: certifi>=2017.4.17 in /usr/local/lib/python3.11/dist-packages (from requests<3.0.0,>=2.13.0->spacy!=3.7.0,<4.0.0,>=3.4.4->presidio_analyzer) (2025.1.31)\n",
            "Requirement already satisfied: blis<1.3.0,>=1.2.0 in /usr/local/lib/python3.11/dist-packages (from thinc<8.4.0,>=8.3.4->spacy!=3.7.0,<4.0.0,>=3.4.4->presidio_analyzer) (1.2.1)\n",
            "Requirement already satisfied: confection<1.0.0,>=0.0.1 in /usr/local/lib/python3.11/dist-packages (from thinc<8.4.0,>=8.3.4->spacy!=3.7.0,<4.0.0,>=3.4.4->presidio_analyzer) (0.1.5)\n",
            "Requirement already satisfied: click>=8.0.0 in /usr/local/lib/python3.11/dist-packages (from typer<1.0.0,>=0.3.0->spacy!=3.7.0,<4.0.0,>=3.4.4->presidio_analyzer) (8.1.8)\n",
            "Requirement already satisfied: shellingham>=1.3.0 in /usr/local/lib/python3.11/dist-packages (from typer<1.0.0,>=0.3.0->spacy!=3.7.0,<4.0.0,>=3.4.4->presidio_analyzer) (1.5.4)\n",
            "Requirement already satisfied: rich>=10.11.0 in /usr/local/lib/python3.11/dist-packages (from typer<1.0.0,>=0.3.0->spacy!=3.7.0,<4.0.0,>=3.4.4->presidio_analyzer) (13.9.4)\n",
            "Requirement already satisfied: cloudpathlib<1.0.0,>=0.7.0 in /usr/local/lib/python3.11/dist-packages (from weasel<0.5.0,>=0.1.0->spacy!=3.7.0,<4.0.0,>=3.4.4->presidio_analyzer) (0.21.0)\n",
            "Requirement already satisfied: smart-open<8.0.0,>=5.2.1 in /usr/local/lib/python3.11/dist-packages (from weasel<0.5.0,>=0.1.0->spacy!=3.7.0,<4.0.0,>=3.4.4->presidio_analyzer) (7.1.0)\n",
            "Requirement already satisfied: MarkupSafe>=2.0 in /usr/local/lib/python3.11/dist-packages (from jinja2->spacy!=3.7.0,<4.0.0,>=3.4.4->presidio_analyzer) (3.0.2)\n",
            "Requirement already satisfied: marisa-trie>=1.1.0 in /usr/local/lib/python3.11/dist-packages (from language-data>=1.2->langcodes<4.0.0,>=3.2.0->spacy!=3.7.0,<4.0.0,>=3.4.4->presidio_analyzer) (1.2.1)\n",
            "Requirement already satisfied: markdown-it-py>=2.2.0 in /usr/local/lib/python3.11/dist-packages (from rich>=10.11.0->typer<1.0.0,>=0.3.0->spacy!=3.7.0,<4.0.0,>=3.4.4->presidio_analyzer) (3.0.0)\n",
            "Requirement already satisfied: pygments<3.0.0,>=2.13.0 in /usr/local/lib/python3.11/dist-packages (from rich>=10.11.0->typer<1.0.0,>=0.3.0->spacy!=3.7.0,<4.0.0,>=3.4.4->presidio_analyzer) (2.18.0)\n",
            "Requirement already satisfied: wrapt in /usr/local/lib/python3.11/dist-packages (from smart-open<8.0.0,>=5.2.1->weasel<0.5.0,>=0.1.0->spacy!=3.7.0,<4.0.0,>=3.4.4->presidio_analyzer) (1.17.2)\n",
            "Requirement already satisfied: mdurl~=0.1 in /usr/local/lib/python3.11/dist-packages (from markdown-it-py>=2.2.0->rich>=10.11.0->typer<1.0.0,>=0.3.0->spacy!=3.7.0,<4.0.0,>=3.4.4->presidio_analyzer) (0.1.2)\n",
            "Downloading presidio_analyzer-2.2.358-py3-none-any.whl (114 kB)\n",
            "\u001b[2K   \u001b[90m━━━━━━━━━━━━━━━━━━━━━━━━━━━━━━━━━━━━━━━━\u001b[0m \u001b[32m114.9/114.9 kB\u001b[0m \u001b[31m4.1 MB/s\u001b[0m eta \u001b[36m0:00:00\u001b[0m\n",
            "\u001b[?25hDownloading phonenumbers-8.13.55-py2.py3-none-any.whl (2.6 MB)\n",
            "\u001b[2K   \u001b[90m━━━━━━━━━━━━━━━━━━━━━━━━━━━━━━━━━━━━━━━━\u001b[0m \u001b[32m2.6/2.6 MB\u001b[0m \u001b[31m38.1 MB/s\u001b[0m eta \u001b[36m0:00:00\u001b[0m\n",
            "\u001b[?25hDownloading tldextract-5.2.0-py3-none-any.whl (106 kB)\n",
            "\u001b[2K   \u001b[90m━━━━━━━━━━━━━━━━━━━━━━━━━━━━━━━━━━━━━━━━\u001b[0m \u001b[32m106.3/106.3 kB\u001b[0m \u001b[31m8.2 MB/s\u001b[0m eta \u001b[36m0:00:00\u001b[0m\n",
            "\u001b[?25hDownloading requests_file-2.1.0-py2.py3-none-any.whl (4.2 kB)\n",
            "Installing collected packages: phonenumbers, requests-file, tldextract, presidio_analyzer\n",
            "Successfully installed phonenumbers-8.13.55 presidio_analyzer-2.2.358 requests-file-2.1.0 tldextract-5.2.0\n"
          ]
        }
      ]
    },
    {
      "cell_type": "code",
      "source": [
        "import gzip\n",
        "import json\n",
        "from presidio_analyzer import AnalyzerEngine\n",
        "from collections import defaultdict\n",
        "\n",
        "# Load your fake data (Assuming it's stored as a dictionary)\n",
        "with gzip.open(\"faker_data_v2.json.gz\", \"rt\",encoding=\"utf-8\") as f:\n",
        "    fake_data_list = json.load(f)\n",
        "fake_data = {}\n",
        "for d in fake_data_list:\n",
        "    fake_data.update(d)\n",
        "\n",
        "# Entity mapping from detected entity types to fake data keys\n",
        "entity_mapping = {\n",
        "    'PERSON': 'names',\n",
        "    'EMAIL_ADDRESS': 'emails',\n",
        "    'PHONE_NUMBER': 'phone',\n",
        "    'LOCATION': 'location',\n",
        "    'CREDIT_CARD': 'credit',\n",
        "    'URL': 'url',\n",
        "    'COUNTRY': 'country',\n",
        "    'ORG': 'company',\n",
        "    'ID': 'id',\n",
        "}\n",
        "\n",
        "# Initialize Presidio Analyzer\n",
        "analyzer = AnalyzerEngine()\n",
        "\n",
        "# Dictionary to store mappings for consistency\n",
        "mappings = defaultdict(dict)\n",
        "\n",
        "def get_fake_value(entity, original_value):\n",
        "    \"\"\"Retrieve a fake value while ensuring consistency.\"\"\"\n",
        "    mapped_entity = entity_mapping.get(entity)  # Map detected entity to fake data key\n",
        "    if not mapped_entity or mapped_entity not in fake_data:\n",
        "        return \"[REDACTED]\"  # Default if no mapping exists\n",
        "\n",
        "    if original_value in mappings[mapped_entity]:\n",
        "        return mappings[mapped_entity][original_value]  # Return existing mapping\n",
        "\n",
        "    if fake_data[mapped_entity]:  # Check if fake data is available\n",
        "        fake_value = fake_data[mapped_entity].pop(0)  # Get a fake value\n",
        "        fake_data[mapped_entity].append(fake_value)  # Recycle value for future use\n",
        "        mappings[mapped_entity][original_value] = fake_value  # Store mapping\n",
        "        return fake_value\n",
        "\n",
        "    return \"[REDACTED]\"  # Fallback\n",
        "\n",
        "def anonymize_json(data):\n",
        "    \"\"\"Recursively anonymize sensitive data in JSON.\"\"\"\n",
        "    if isinstance(data, dict):\n",
        "        return {key: anonymize_json(value) for key, value in data.items()}\n",
        "\n",
        "    elif isinstance(data, list):\n",
        "        return [anonymize_json(item) for item in data]\n",
        "\n",
        "    elif isinstance(data, str):\n",
        "        results = analyzer.analyze(text=data, entities=list(entity_mapping.keys()), language=\"en\")\n",
        "\n",
        "        if not results:\n",
        "            return data\n",
        "\n",
        "        # Sort results in reverse to avoid messing up indexes\n",
        "        results = sorted(results, key=lambda x: x.start, reverse=True)\n",
        "\n",
        "        for result in results:\n",
        "            entity_type = result.entity_type\n",
        "            sensitive_text = data[result.start:result.end]\n",
        "            fake_value = get_fake_value(entity_type, sensitive_text)\n",
        "\n",
        "            # Replace exact span safely\n",
        "            data = data[:result.start] + fake_value + data[result.end:]\n",
        "\n",
        "        return data\n",
        "\n",
        "    else:\n",
        "        return data\n",
        "\n"
      ],
      "metadata": {
        "id": "2EroohMlA8U4",
        "colab": {
          "base_uri": "https://localhost:8080/"
        },
        "outputId": "5f284e2a-5580-4efc-ebd2-9ff429844037"
      },
      "execution_count": 24,
      "outputs": [
        {
          "output_type": "stream",
          "name": "stderr",
          "text": [
            "WARNING:presidio-analyzer:Recognizer not added to registry because language is not supported by registry - CreditCardRecognizer supported languages: es, registry supported languages: en\n",
            "WARNING:presidio-analyzer:Recognizer not added to registry because language is not supported by registry - CreditCardRecognizer supported languages: it, registry supported languages: en\n",
            "WARNING:presidio-analyzer:Recognizer not added to registry because language is not supported by registry - CreditCardRecognizer supported languages: pl, registry supported languages: en\n",
            "WARNING:presidio-analyzer:Recognizer not added to registry because language is not supported by registry - EsNifRecognizer supported languages: es, registry supported languages: en\n",
            "WARNING:presidio-analyzer:Recognizer not added to registry because language is not supported by registry - EsNieRecognizer supported languages: es, registry supported languages: en\n",
            "WARNING:presidio-analyzer:Recognizer not added to registry because language is not supported by registry - ItDriverLicenseRecognizer supported languages: it, registry supported languages: en\n",
            "WARNING:presidio-analyzer:Recognizer not added to registry because language is not supported by registry - ItFiscalCodeRecognizer supported languages: it, registry supported languages: en\n",
            "WARNING:presidio-analyzer:Recognizer not added to registry because language is not supported by registry - ItVatCodeRecognizer supported languages: it, registry supported languages: en\n",
            "WARNING:presidio-analyzer:Recognizer not added to registry because language is not supported by registry - ItIdentityCardRecognizer supported languages: it, registry supported languages: en\n",
            "WARNING:presidio-analyzer:Recognizer not added to registry because language is not supported by registry - ItPassportRecognizer supported languages: it, registry supported languages: en\n",
            "WARNING:presidio-analyzer:Recognizer not added to registry because language is not supported by registry - PlPeselRecognizer supported languages: pl, registry supported languages: en\n"
          ]
        }
      ]
    },
    {
      "cell_type": "code",
      "source": [
        "input_data = {\n",
        "    \"name\": \"Alice Johnson\",\n",
        "    \"email\": \"alice.johnson@example.com\",\n",
        "    \"phone\": \"+14155552671\",\n",
        "    \"location\": \"San Francisco\",\n",
        "    \"company\": \"Microsoft\",\n",
        "    \"credit_card\": \"4111 1111 1111 1111\",\n",
        "    \"url\": \"https://www.linkedin.com/in/alicejohnson\",\n",
        "    \"country\": \"United States\",\n",
        "    \"id\": \"AB1234567\",\n",
        "    \"profile\": {\n",
        "        \"bio\": \"Alice Johnson is a software engineer living in San Francisco. Contact her at alice.johnson@example.com or call +14155552671.\",\n",
        "        \"social\": [\"https://twitter.com/alicejohnson\", \"https://facebook.com/alicejohnson\"]\n",
        "    }\n",
        "}\n",
        "\n"
      ],
      "metadata": {
        "id": "9Kkv9F6QHCoG"
      },
      "execution_count": 29,
      "outputs": []
    },
    {
      "cell_type": "code",
      "source": [
        "anonymize_json(input_data)"
      ],
      "metadata": {
        "colab": {
          "base_uri": "https://localhost:8080/"
        },
        "id": "1hsDgJ0tHKqw",
        "outputId": "65f904e0-52a5-4799-a8ae-8659e1f5330d"
      },
      "execution_count": 30,
      "outputs": [
        {
          "output_type": "stream",
          "name": "stderr",
          "text": [
            "WARNING:presidio-analyzer:Entity COUNTRY doesn't have the corresponding recognizer in language : en\n",
            "WARNING:presidio-analyzer:Entity ORG doesn't have the corresponding recognizer in language : en\n",
            "WARNING:presidio-analyzer:Entity ID doesn't have the corresponding recognizer in language : en\n",
            "WARNING:presidio-analyzer:Entity COUNTRY doesn't have the corresponding recognizer in language : en\n",
            "WARNING:presidio-analyzer:Entity ORG doesn't have the corresponding recognizer in language : en\n",
            "WARNING:presidio-analyzer:Entity ID doesn't have the corresponding recognizer in language : en\n",
            "WARNING:presidio-analyzer:Entity COUNTRY doesn't have the corresponding recognizer in language : en\n",
            "WARNING:presidio-analyzer:Entity ORG doesn't have the corresponding recognizer in language : en\n",
            "WARNING:presidio-analyzer:Entity ID doesn't have the corresponding recognizer in language : en\n",
            "WARNING:presidio-analyzer:Entity COUNTRY doesn't have the corresponding recognizer in language : en\n",
            "WARNING:presidio-analyzer:Entity ORG doesn't have the corresponding recognizer in language : en\n",
            "WARNING:presidio-analyzer:Entity ID doesn't have the corresponding recognizer in language : en\n",
            "WARNING:presidio-analyzer:Entity COUNTRY doesn't have the corresponding recognizer in language : en\n",
            "WARNING:presidio-analyzer:Entity ORG doesn't have the corresponding recognizer in language : en\n",
            "WARNING:presidio-analyzer:Entity ID doesn't have the corresponding recognizer in language : en\n",
            "WARNING:presidio-analyzer:Entity COUNTRY doesn't have the corresponding recognizer in language : en\n",
            "WARNING:presidio-analyzer:Entity ORG doesn't have the corresponding recognizer in language : en\n",
            "WARNING:presidio-analyzer:Entity ID doesn't have the corresponding recognizer in language : en\n",
            "WARNING:presidio-analyzer:Entity COUNTRY doesn't have the corresponding recognizer in language : en\n",
            "WARNING:presidio-analyzer:Entity ORG doesn't have the corresponding recognizer in language : en\n",
            "WARNING:presidio-analyzer:Entity ID doesn't have the corresponding recognizer in language : en\n",
            "WARNING:presidio-analyzer:Entity COUNTRY doesn't have the corresponding recognizer in language : en\n",
            "WARNING:presidio-analyzer:Entity ORG doesn't have the corresponding recognizer in language : en\n",
            "WARNING:presidio-analyzer:Entity ID doesn't have the corresponding recognizer in language : en\n",
            "WARNING:presidio-analyzer:Entity COUNTRY doesn't have the corresponding recognizer in language : en\n",
            "WARNING:presidio-analyzer:Entity ORG doesn't have the corresponding recognizer in language : en\n",
            "WARNING:presidio-analyzer:Entity ID doesn't have the corresponding recognizer in language : en\n",
            "WARNING:presidio-analyzer:Entity COUNTRY doesn't have the corresponding recognizer in language : en\n",
            "WARNING:presidio-analyzer:Entity ORG doesn't have the corresponding recognizer in language : en\n",
            "WARNING:presidio-analyzer:Entity ID doesn't have the corresponding recognizer in language : en\n",
            "WARNING:presidio-analyzer:Entity COUNTRY doesn't have the corresponding recognizer in language : en\n",
            "WARNING:presidio-analyzer:Entity ORG doesn't have the corresponding recognizer in language : en\n",
            "WARNING:presidio-analyzer:Entity ID doesn't have the corresponding recognizer in language : en\n",
            "WARNING:presidio-analyzer:Entity COUNTRY doesn't have the corresponding recognizer in language : en\n",
            "WARNING:presidio-analyzer:Entity ORG doesn't have the corresponding recognizer in language : en\n",
            "WARNING:presidio-analyzer:Entity ID doesn't have the corresponding recognizer in language : en\n"
          ]
        },
        {
          "output_type": "execute_result",
          "data": {
            "text/plain": [
              "{'name': 'Mrs. Theresa Williams',\n",
              " 'email': 'chavez-solomonael@example.com',\n",
              " 'phone': '001-377-755-7593x2399',\n",
              " 'location': 'Port Brett, Delaware Region',\n",
              " 'company': 'Microsoft',\n",
              " 'credit_card': '6528835898351118',\n",
              " 'url': 'roman-rogers',\n",
              " 'country': 'Jefferyburgh, South Dakota',\n",
              " 'id': 'AB1234567',\n",
              " 'profile': {'bio': 'Mrs. Theresa Williams is a software engineer living in Port Brett, Delaware Region. Contact her at jacksonley@example.comll 001-377-755-7593x2399.',\n",
              "  'social': ['duran', 'harrell-hawkins']}}"
            ]
          },
          "metadata": {},
          "execution_count": 30
        }
      ]
    }
  ],
  "metadata": {
    "colab": {
      "name": "Welcome To Colab",
      "provenance": [],
      "include_colab_link": true
    },
    "kernelspec": {
      "display_name": "Python 3",
      "name": "python3"
    }
  },
  "nbformat": 4,
  "nbformat_minor": 0
}